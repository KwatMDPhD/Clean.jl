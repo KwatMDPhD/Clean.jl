{
 "cells": [
  {
   "cell_type": "code",
   "execution_count": null,
   "id": "efccc025",
   "metadata": {},
   "outputs": [],
   "source": [
    "using Clean\n",
    "\n",
    "using OnePiece"
   ]
  },
  {
   "cell_type": "markdown",
   "id": "ec7ad311",
   "metadata": {},
   "source": [
    "## clean"
   ]
  },
  {
   "cell_type": "code",
   "execution_count": null,
   "id": "bc08e8e4",
   "metadata": {},
   "outputs": [],
   "source": [
    "jl = joinpath(@__DIR__, \"dirty.jl\")\n",
    "\n",
    "Clean.clean(jl)"
   ]
  },
  {
   "cell_type": "code",
   "execution_count": null,
   "id": "a1562168",
   "metadata": {},
   "outputs": [],
   "source": [
    "nb = joinpath(@__DIR__, \"dirty.ipynb\")\n",
    "\n",
    "Clean.clean(nb)"
   ]
  },
  {
   "cell_type": "code",
   "execution_count": null,
   "id": "b8819846",
   "metadata": {},
   "outputs": [],
   "source": [
    "Clean.clean(jl, nb)"
   ]
  }
 ],
 "metadata": {
  "@webio": {
   "lastCommId": null,
   "lastKernelId": null
  },
  "kernelspec": {
   "display_name": "Julia 1.7.3",
   "language": "julia",
   "name": "julia-1.8"
  },
  "language_info": {
   "file_extension": ".jl",
   "mimetype": "application/julia",
   "name": "julia",
   "version": "1.8.2"
  }
 },
 "nbformat": 4,
 "nbformat_minor": 5
}
