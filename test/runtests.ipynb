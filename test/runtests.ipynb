{
 "cells": [
  {
   "outputs": [],
   "cell_type": "code",
   "source": [
    "using Clean"
   ],
   "id": "efccc025",
   "metadata": {},
   "execution_count": null
  },
  {
   "cell_type": "markdown",
   "source": [
    "## clean"
   ],
   "id": "ec7ad311",
   "metadata": {}
  },
  {
   "outputs": [],
   "cell_type": "code",
   "source": [
    "function copy_for_clean(na)\n",
    "\n",
    "    di = joinpath(@__DIR__, na)\n",
    "\n",
    "    cp(di, replace(di, \"dirty\" => \"clean\")[1:(end - 1)], force = true)\n",
    "\n",
    "end"
   ],
   "id": "acc39000-0f93-427d-a6d4-a34a6db1d1e2",
   "metadata": {},
   "execution_count": null
  },
  {
   "outputs": [],
   "cell_type": "code",
   "source": [
    "jl = copy_for_clean(\"dirty.jl_\")\n",
    "\n",
    "Clean.clean(jl)"
   ],
   "id": "bc08e8e4",
   "metadata": {},
   "execution_count": null
  },
  {
   "outputs": [],
   "cell_type": "code",
   "source": [
    "nb = copy_for_clean(\"dirty.ipynb_\")\n",
    "\n",
    "Clean.clean(nb)"
   ],
   "id": "a1562168",
   "metadata": {},
   "execution_count": null
  },
  {
   "outputs": [],
   "cell_type": "code",
   "source": [
    "Clean.clean(jl, nb)"
   ],
   "id": "b8819846",
   "metadata": {},
   "execution_count": null
  }
 ],
 "nbformat_minor": 5,
 "metadata": {
  "language_info": {
   "file_extension": ".jl",
   "mimetype": "application/julia",
   "name": "julia",
   "version": "1.8.2"
  },
  "@webio": {
   "lastKernelId": null,
   "lastCommId": null
  },
  "kernelspec": {
   "name": "julia-1.8",
   "display_name": "Julia 1.8.2",
   "language": "julia"
  }
 },
 "nbformat": 4
}
