{
 "cells": [
  {
   "outputs": [],
   "cell_type": "code",
   "source": [
    "using Clean"
   ],
   "id": "efccc025",
   "metadata": {},
   "execution_count": null
  },
  {
   "cell_type": "markdown",
   "source": [
    "## clean"
   ],
   "id": "ec7ad311",
   "metadata": {}
  },
  {
   "outputs": [],
   "cell_type": "code",
   "source": [
    "function copy_for_cleaning(fi)\n",
    "\n",
    "    di = joinpath(@__DIR__, \"dirty.jl_\")\n",
    "\n",
    "    di, cp(di, di[1:(end - 1)], force = true)\n",
    "\n",
    "end"
   ],
   "id": "857fc95f-b58c-432e-a185-93e253e9f485",
   "metadata": {},
   "execution_count": null
  },
  {
   "outputs": [],
   "cell_type": "code",
   "source": [
    "jl = copy_for_cleaning(\"dirty.jl_\")[2]\n",
    "\n",
    "Clean.clean(jl)"
   ],
   "id": "bc08e8e4",
   "metadata": {},
   "execution_count": null
  },
  {
   "outputs": [],
   "cell_type": "code",
   "source": [
    "nb = copy_for_cleaning(\"dirty.ipynb_\")[2]\n",
    "\n",
    "Clean.clean(nb)"
   ],
   "id": "a1562168",
   "metadata": {},
   "execution_count": null
  },
  {
   "outputs": [],
   "cell_type": "code",
   "source": [
    "Clean.clean(jl, nb)"
   ],
   "id": "b8819846",
   "metadata": {},
   "execution_count": null
  },
  {
   "outputs": [],
   "cell_type": "code",
   "source": [
    "di, nb = copy_for_cleaning(\"Untitled.jl_\")\n",
    "\n",
    "Clean.clean(nb)\n",
    "\n",
    "try\n",
    "\n",
    "    run(`diff $di $nb`)\n",
    "\n",
    "catch\n",
    "\n",
    "end"
   ],
   "id": "723c4925-0a9e-46cf-8b88-37ff6b1c33f6",
   "metadata": {},
   "execution_count": null
  }
 ],
 "nbformat_minor": 5,
 "metadata": {
  "language_info": {
   "file_extension": ".jl",
   "mimetype": "application/julia",
   "name": "julia",
   "version": "1.8.3"
  },
  "@webio": {
   "lastKernelId": null,
   "lastCommId": null
  },
  "kernelspec": {
   "name": "julia-1.8",
   "display_name": "Julia 1.8.2",
   "language": "julia"
  }
 },
 "nbformat": 4
}
