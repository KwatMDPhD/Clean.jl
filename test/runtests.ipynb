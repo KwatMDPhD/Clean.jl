{
 "cells": [
  {
   "outputs": [],
   "cell_type": "code",
   "source": [
    "using BioLab\n",
    "\n",
    "using Clean"
   ],
   "id": "efccc025",
   "metadata": {},
   "execution_count": null
  },
  {
   "cell_type": "markdown",
   "source": [
    "## clean"
   ],
   "id": "ec7ad311",
   "metadata": {}
  },
  {
   "outputs": [],
   "cell_type": "code",
   "source": [
    "function copy_for_cleaning(di)\n",
    "\n",
    "    di = joinpath(@__DIR__, di)\n",
    "\n",
    "    return di, cp(di, di[1:(end - 1)]; force = true)\n",
    "\n",
    "end\n",
    "\n",
    "function diff(di, fi)\n",
    "\n",
    "    try\n",
    "\n",
    "        run(`diff $di $fi`)\n",
    "\n",
    "    catch\n",
    "\n",
    "    end\n",
    "\n",
    "    return nothing\n",
    "\n",
    "end\n",
    "\n",
    "for di in (\"dirty.jl_\", \"dirty.ipynb_\", \"Untitled.ipynb_\")\n",
    "\n",
    "    BioLab.String.print_header(di)\n",
    "\n",
    "    di, co = copy_for_cleaning(di)\n",
    "\n",
    "    Clean.clean(co)\n",
    "\n",
    "    # @code_warntype Clean.clean(co)\n",
    "\n",
    "    diff(di, co)\n",
    "\n",
    "end"
   ],
   "id": "3f4157b9-8bd3-48a3-8fcd-a328230ff682",
   "metadata": {},
   "execution_count": null
  }
 ],
 "nbformat_minor": 5,
 "metadata": {
  "language_info": {
   "file_extension": ".jl",
   "mimetype": "application/julia",
   "name": "julia",
   "version": "1.8.5"
  },
  "@webio": {
   "lastKernelId": null,
   "lastCommId": null
  },
  "kernelspec": {
   "name": "julia-1.8",
   "display_name": "Julia 1.8.5",
   "language": "julia"
  }
 },
 "nbformat": 4
}
