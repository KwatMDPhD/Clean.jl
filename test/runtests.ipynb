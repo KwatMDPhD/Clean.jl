{
 "cells": [
  {
   "outputs": [],
   "cell_type": "code",
   "source": [
    "using BioLab\n",
    "\n",
    "using Clean"
   ],
   "id": "efccc025",
   "metadata": {},
   "execution_count": null
  },
  {
   "cell_type": "markdown",
   "source": [
    "## clean"
   ],
   "id": "ec7ad311",
   "metadata": {}
  },
  {
   "outputs": [],
   "cell_type": "code",
   "source": [
    "function copy_for_cleaning(fi)\n",
    "\n",
    "    di = joinpath(@__DIR__, fi)\n",
    "\n",
    "    di, cp(di, di[1:(end - 1)]; force = true)\n",
    "\n",
    "end\n",
    "\n",
    "function _diff(di, fi)\n",
    "\n",
    "    try\n",
    "\n",
    "        run(`diff $di $fi`)\n",
    "\n",
    "    catch\n",
    "\n",
    "    end\n",
    "\n",
    "end\n",
    "\n",
    "BioLab.String.print_header()\n",
    "\n",
    "di, jl = copy_for_cleaning(\"dirty.jl_\")\n",
    "\n",
    "Clean.clean(jl)\n",
    "\n",
    "_diff(di, jl)\n",
    "\n",
    "BioLab.String.print_header()\n",
    "\n",
    "di, nb = copy_for_cleaning(\"dirty.ipynb_\")\n",
    "\n",
    "Clean.clean(nb)\n",
    "\n",
    "_diff(di, nb)\n",
    "\n",
    "BioLab.String.print_header()\n",
    "\n",
    "Clean.clean(jl, nb)\n",
    "\n",
    "BioLab.String.print_header()\n",
    "\n",
    "di, nb = copy_for_cleaning(\"Untitled.ipynb_\")\n",
    "\n",
    "Clean.clean(nb)\n",
    "\n",
    "_diff(di, nb)"
   ],
   "id": "3f4157b9-8bd3-48a3-8fcd-a328230ff682",
   "metadata": {},
   "execution_count": null
  }
 ],
 "nbformat_minor": 5,
 "metadata": {
  "language_info": {
   "file_extension": ".jl",
   "mimetype": "application/julia",
   "name": "julia",
   "version": "1.8.5"
  },
  "@webio": {
   "lastKernelId": null,
   "lastCommId": null
  },
  "kernelspec": {
   "name": "julia-1.8",
   "display_name": "Julia 1.8.5",
   "language": "julia"
  }
 },
 "nbformat": 4
}
