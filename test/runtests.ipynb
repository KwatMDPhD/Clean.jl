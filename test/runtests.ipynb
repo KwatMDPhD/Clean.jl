{
 "cells": [
  {
   "cell_type": "code",
   "execution_count": null,
   "id": "34e4701e",
   "metadata": {},
   "outputs": [],
   "source": [
    "using Revise\n",
    "using BenchmarkTools"
   ]
  },
  {
   "cell_type": "code",
   "execution_count": null,
   "id": "23b98853",
   "metadata": {
    "execution": {
     "iopub.execute_input": "2021-10-14T18:25:54.055222Z",
     "iopub.status.busy": "2021-10-14T18:25:53.342490Z",
     "iopub.status.idle": "2021-10-14T18:26:10.352867Z",
     "shell.execute_reply": "2021-10-14T18:26:10.352370Z"
    }
   },
   "outputs": [],
   "source": [
    "using Clean"
   ]
  },
  {
   "cell_type": "code",
   "execution_count": null,
   "id": "40935f19",
   "metadata": {},
   "outputs": [],
   "source": [
    "jl = joinpath(@__DIR__, \"runtests.jl\")\n",
    "\n",
    "nb = joinpath(@__DIR__, \"runtests.ipynb\")\n",
    "\n",
    ";"
   ]
  },
  {
   "cell_type": "markdown",
   "id": "91986449",
   "metadata": {},
   "source": [
    "## clean_jl"
   ]
  },
  {
   "cell_type": "code",
   "execution_count": null,
   "id": "cea05e2b",
   "metadata": {},
   "outputs": [],
   "source": [
    "Clean.clean_jl(jl)"
   ]
  },
  {
   "cell_type": "markdown",
   "id": "151c6d81",
   "metadata": {},
   "source": [
    "## clean_nb"
   ]
  },
  {
   "cell_type": "code",
   "execution_count": null,
   "id": "31397474",
   "metadata": {},
   "outputs": [],
   "source": [
    "Clean.clean_nb(nb)"
   ]
  },
  {
   "cell_type": "markdown",
   "id": "25ae4a81",
   "metadata": {},
   "source": [
    "## clean"
   ]
  },
  {
   "cell_type": "code",
   "execution_count": null,
   "id": "069eb5ca",
   "metadata": {},
   "outputs": [],
   "source": [
    "Clean.clean(jl)\n",
    "\n",
    "Clean.clean(nb)\n",
    "\n",
    "Clean.clean(jl, nb)"
   ]
  }
 ],
 "metadata": {
  "@webio": {
   "lastCommId": "07a6a69ebf8240238b956b99ec0ff312",
   "lastKernelId": "4e7b4471-81e6-4431-8737-b1116b5ca3ff"
  },
  "kernelspec": {
   "display_name": "Julia 1.7.1",
   "language": "julia",
   "name": "julia-1.7"
  },
  "language_info": {
   "file_extension": ".jl",
   "mimetype": "application/julia",
   "name": "julia",
   "version": "1.7.1"
  }
 },
 "nbformat": 4,
 "nbformat_minor": 5
}
