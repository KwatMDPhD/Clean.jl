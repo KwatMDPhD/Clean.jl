{
 "cells": [
  {
   "cell_type": "code",
   "execution_count": null,
   "id": "ad4fb98a",
   "metadata": {},
   "outputs": [],
   "source": [
    "TE = joinpath(tempdir(), \"Clean.test\")\n",
    "\n",
    "if isdir(TE)\n",
    "\n",
    "    rm(TE; recursive = true)\n",
    "\n",
    "end\n",
    "\n",
    "mkdir(TE)"
   ]
  },
  {
   "cell_type": "code",
   "execution_count": null,
   "id": "34e4701e",
   "metadata": {},
   "outputs": [],
   "source": [
    "#using Revise\n",
    "using BenchmarkTools"
   ]
  },
  {
   "cell_type": "markdown",
   "id": "349c228e",
   "metadata": {},
   "source": [
    "---"
   ]
  },
  {
   "cell_type": "code",
   "execution_count": null,
   "id": "23b98853",
   "metadata": {
    "execution": {
     "iopub.execute_input": "2021-10-14T18:25:54.055222Z",
     "iopub.status.busy": "2021-10-14T18:25:53.342490Z",
     "iopub.status.idle": "2021-10-14T18:26:10.352867Z",
     "shell.execute_reply": "2021-10-14T18:26:10.352370Z"
    }
   },
   "outputs": [],
   "source": [
    "using Clean"
   ]
  },
  {
   "cell_type": "code",
   "execution_count": null,
   "id": "40935f19",
   "metadata": {},
   "outputs": [],
   "source": [
    "jl = joinpath(@__DIR__, \"runtests.jl\")\n",
    "\n",
    "nb = joinpath(@__DIR__, \"runtests.ipynb\")"
   ]
  },
  {
   "cell_type": "markdown",
   "id": "91986449",
   "metadata": {},
   "source": [
    "## clean_jl"
   ]
  },
  {
   "cell_type": "code",
   "execution_count": null,
   "id": "cea05e2b",
   "metadata": {},
   "outputs": [],
   "source": [
    "Clean.clean_jl(jl)"
   ]
  },
  {
   "cell_type": "markdown",
   "id": "151c6d81",
   "metadata": {},
   "source": [
    "## clean_nb"
   ]
  },
  {
   "cell_type": "code",
   "execution_count": null,
   "id": "31397474",
   "metadata": {},
   "outputs": [],
   "source": [
    "Clean.clean_nb(nb)"
   ]
  },
  {
   "cell_type": "markdown",
   "id": "25ae4a81",
   "metadata": {},
   "source": [
    "## clean"
   ]
  },
  {
   "cell_type": "code",
   "execution_count": null,
   "id": "069eb5ca",
   "metadata": {},
   "outputs": [],
   "source": [
    "Clean.clean(jl)\n",
    "\n",
    "Clean.clean(nb)\n",
    "\n",
    "Clean.clean(jl, nb)"
   ]
  },
  {
   "cell_type": "markdown",
   "id": "1531a6bb",
   "metadata": {},
   "source": [
    "---"
   ]
  },
  {
   "cell_type": "code",
   "execution_count": null,
   "id": "b169202a",
   "metadata": {},
   "outputs": [],
   "source": [
    "rm(TE; recursive = true)"
   ]
  }
 ],
 "metadata": {
  "@webio": {
   "lastCommId": null,
   "lastKernelId": null
  },
  "kernelspec": {
   "display_name": "Julia 1.7.2",
   "language": "julia",
   "name": "julia-1.7"
  },
  "language_info": {
   "file_extension": ".jl",
   "mimetype": "application/julia",
   "name": "julia",
   "version": "1.7.2"
  }
 },
 "nbformat": 4,
 "nbformat_minor": 5
}
