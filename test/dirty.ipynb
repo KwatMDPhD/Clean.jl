{
 "cells": [
  {
   "cell_type": "raw",
   "source": [
    "\n",
    " \"a\"\n",
    "\n",
    " (1,)\n",
    "\n",
    " 1 + 1\n",
    "\n",
    "[[1], 2]\n"
   ],
   "id": "13717c35-501d-4a84-a061-d713487a8d80",
   "metadata": {}
  },
  {
   "outputs": [],
   "cell_type": "code",
   "source": [
    "\"a\"\n",
    "\n",
    "(1,)\n",
    "\n",
    "1 + 1\n",
    "\n",
    "[[1], 2]"
   ],
   "id": "5c2a5c86-171d-4fa6-b11c-ec27a5613a13",
   "metadata": {},
   "execution_count": null
  },
  {
   "outputs": [],
   "cell_type": "code",
   "source": [
    "\"a\"\n",
    "\n",
    "(1,)\n",
    "\n",
    "1 + 1\n",
    "\n",
    "[[1], 2]"
   ],
   "id": "0e9dfe80-d506-4533-b99f-4ddb13d2206e",
   "metadata": {},
   "execution_count": null
  },
  {
   "cell_type": "markdown",
   "source": [
    "## Markdown"
   ],
   "id": "6f8781ed-3bb2-4419-8189-728867f991b7",
   "metadata": {}
  }
 ],
 "nbformat_minor": 5,
 "metadata": {
  "language_info": {
   "file_extension": ".jl",
   "mimetype": "application/julia",
   "name": "julia",
   "version": "1.8.2"
  },
  "kernelspec": {
   "name": "julia-1.8",
   "display_name": "Julia 1.8.2",
   "language": "julia"
  }
 },
 "nbformat": 4
}
